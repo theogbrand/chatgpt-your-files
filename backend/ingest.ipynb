{
 "cells": [
  {
   "cell_type": "code",
   "execution_count": null,
   "metadata": {},
   "outputs": [],
   "source": [
    "# %pip install -U weaviate-client\n",
    "# %pip install pymilvus==2.4.0\n",
    "# %pip install pinecone-client"
   ]
  },
  {
   "cell_type": "code",
   "execution_count": null,
   "metadata": {},
   "outputs": [],
   "source": [
    "from dotenv import load_dotenv\n",
    "import os\n",
    "\n",
    "load_dotenv(dotenv_path=\".env\")"
   ]
  },
  {
   "cell_type": "code",
   "execution_count": null,
   "metadata": {},
   "outputs": [],
   "source": [
    "# import weaviate\n",
    "# import os\n",
    "  \n",
    "# # Set these environment variables\n",
    "# URL = os.getenv(\"WCS_URL\")\n",
    "# APIKEY = os.getenv(\"WCS_API_KEY\")\n",
    "  \n",
    "# # Connect to a WCS instance\n",
    "# client = weaviate.connect_to_wcs(\n",
    "#     cluster_url=URL,\n",
    "#     auth_credentials=weaviate.auth.AuthApiKey(APIKEY))"
   ]
  },
  {
   "cell_type": "code",
   "execution_count": null,
   "metadata": {},
   "outputs": [],
   "source": [
    "# from pymilvus import MilvusClient, DataType\n",
    "\n",
    "# client = MilvusClient(\n",
    "#     uri=os.environ[\"MILVUS_URI\"],\n",
    "#     token=os.environ[\"MILVUS_API_KEY\"]\n",
    "# )\n"
   ]
  },
  {
   "cell_type": "code",
   "execution_count": null,
   "metadata": {},
   "outputs": [],
   "source": [
    "from pinecone import Pinecone\n",
    "\n",
    "pc = Pinecone(api_key=os.environ[\"PINECONE_API_KEY\"])\n",
    "index = pc.Index(\"test-pdf\")"
   ]
  },
  {
   "cell_type": "code",
   "execution_count": null,
   "metadata": {},
   "outputs": [],
   "source": [
    "from openai import AzureOpenAI\n",
    "client = AzureOpenAI(\n",
    "  api_key = os.getenv(\"AZURE_OPENAI_EMBD_API_KEY\"),  \n",
    "  api_version = \"2024-03-01-preview\",\n",
    "  azure_endpoint = os.getenv(\"AZURE_OPENAI_EMBD_ENDPOINT\")\n",
    ")\n",
    "\n",
    "response = client.embeddings.create(\n",
    "    input=\"Your text string goes here\",\n",
    "    model=\"large-3\",\n",
    "    dimensions=512\n",
    ")\n",
    "\n",
    "# print(response.data[0].embedding)"
   ]
  },
  {
   "cell_type": "code",
   "execution_count": null,
   "metadata": {},
   "outputs": [],
   "source": []
  }
 ],
 "metadata": {
  "kernelspec": {
   "display_name": "venv",
   "language": "python",
   "name": "python3"
  },
  "language_info": {
   "codemirror_mode": {
    "name": "ipython",
    "version": 3
   },
   "file_extension": ".py",
   "mimetype": "text/x-python",
   "name": "python",
   "nbconvert_exporter": "python",
   "pygments_lexer": "ipython3",
   "version": "3.11.7"
  }
 },
 "nbformat": 4,
 "nbformat_minor": 2
}
